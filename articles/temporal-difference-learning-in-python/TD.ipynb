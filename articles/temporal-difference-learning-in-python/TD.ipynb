{
 "cells": [
  {
   "cell_type": "code",
   "execution_count": 22,
   "metadata": {},
   "outputs": [],
   "source": [
    "import gym_utils as utils\n",
    "import random\n",
    "from IPython.display import clear_output\n",
    "from time import sleep\n",
    "import numpy as np\n",
    "from random import randint"
   ]
  },
  {
   "cell_type": "code",
   "execution_count": 30,
   "metadata": {},
   "outputs": [],
   "source": [
    "def run_game(env, policy, display=True, should_return=True):\n",
    "    env.reset()\n",
    "    episode = []\n",
    "    finished = False\n",
    "    \n",
    "    while not finished:\n",
    "        s = env.env.s  # state\n",
    "        \n",
    "        if display:\n",
    "            clear_output(True)\n",
    "            env.render()\n",
    "            sleep(0.5)\n",
    "        \n",
    "        timestep = []\n",
    "        timestep.append(s)\n",
    "        action = policy[s]\n",
    "        \n",
    "        # new state\n",
    "        state, reward, finished, info = env.step(action)\n",
    "        timestep.append(action)\n",
    "        timestep.append(reward)\n",
    "        \n",
    "        episode.append(timestep)\n",
    "        \n",
    "    if display:\n",
    "        clear_output(True)\n",
    "        env.render()\n",
    "        sleep(0.5)\n",
    "        \n",
    "    if should_return:\n",
    "        return episode"
   ]
  },
  {
   "cell_type": "code",
   "execution_count": 31,
   "metadata": {},
   "outputs": [],
   "source": [
    "def  argmax_Q(Q,  s):            \n",
    "    Q_list = list(map(lambda x: x[1], Q[s].items())) # 13.\n",
    "    indices = [i for i, x in enumerate(Q_list) if x == max(Q_list)]\n",
    "    max_Q = random.choice(indices)\n",
    "    return max_Q\n",
    "\n",
    "def greedy_policy(Q):\n",
    "    policy = {}\n",
    "    for state in Q.keys():\n",
    "        policy[state] = argmax_Q(Q, state)\n",
    "    return policy\n",
    "\n",
    "def field_list(env):\n",
    "    l = []\n",
    "    for row in list(map(lambda x: list([str(y)[-2] for y in x]), list(env.env.desc))):\n",
    "        for field in row:\n",
    "            l.append(field)\n",
    "    return l   \n",
    "\n",
    "def create_state_action_dictionary(env, policy):\n",
    "    Q = {}\n",
    "    fields = field_list(env)\n",
    "    for key in policy.keys():\n",
    "        if fields[key] in ['F', 'S']:\n",
    "            Q[key] = {a: 0.0 for a in range(0, env.action_space.n)}\n",
    "        else:\n",
    "            Q[key] = {a: 0.0 for a in range(0, env.action_space.n)}\n",
    "    return Q\n",
    "\n",
    "def test_policy(policy, env):\n",
    "    wins = 0\n",
    "    r = 1000\n",
    "    for i in range(r):\n",
    "        w = run_game(env, policy, display=False)[-1][-1]\n",
    "        if w == 1:\n",
    "            wins += 1\n",
    "    return wins / r"
   ]
  },
  {
   "cell_type": "markdown",
   "metadata": {},
   "source": [
    "### SARSA (on-policy TD control)\n",
    "\n",
    "- On-policy\n",
    "- learn action-value function rather than state-value function"
   ]
  },
  {
   "cell_type": "code",
   "execution_count": 32,
   "metadata": {},
   "outputs": [],
   "source": [
    "def sarsa(env, episodes=100, step_size=0.01, exploration_rate=0.01):\n",
    "    policy = utils.create_random_policy(env)\n",
    "    Q = create_state_action_dictionary(env, policy)\n",
    "    for episode in range(episodes):\n",
    "        env.reset()\n",
    "        S = env.env.s\n",
    "        A = greedy_policy(Q)[S] \n",
    "        finished = False\n",
    "        while not finished:\n",
    "            S_prime, reward, finished, _ = env.step(A)\n",
    "            A_prime = greedy_policy(Q)[S_prime] \n",
    "            Q[S][A] = Q[S][A] + step_size * (reward + exploration_rate * Q[S_prime][A_prime] - Q[S][A])\n",
    "            S = S_prime\n",
    "            A = A_prime\n",
    "            \n",
    "    return greedy_policy(Q), Q"
   ]
  },
  {
   "cell_type": "markdown",
   "metadata": {},
   "source": [
    "4 x 4"
   ]
  },
  {
   "cell_type": "code",
   "execution_count": 40,
   "metadata": {},
   "outputs": [
    {
     "data": {
      "text/plain": [
       "1.0"
      ]
     },
     "execution_count": 40,
     "metadata": {},
     "output_type": "execute_result"
    }
   ],
   "source": [
    "env = utils.create_environment(slippery=False, big=False)\n",
    "policy, Q = sarsa(env, episodes=10000, step_size=0.1, exploration_rate=0.1)\n",
    "test_policy(policy, env)"
   ]
  },
  {
   "cell_type": "code",
   "execution_count": 41,
   "metadata": {},
   "outputs": [
    {
     "name": "stdout",
     "output_type": "stream",
     "text": [
      "  (Right)\n",
      "SFFF\n",
      "FHFH\n",
      "FFFH\n",
      "HFF\u001b[41mG\u001b[0m\n"
     ]
    }
   ],
   "source": [
    "run_game(env=env, policy=policy, display=True, should_return=False)"
   ]
  },
  {
   "cell_type": "markdown",
   "metadata": {},
   "source": [
    "8 x 8"
   ]
  },
  {
   "cell_type": "code",
   "execution_count": 42,
   "metadata": {},
   "outputs": [
    {
     "data": {
      "text/plain": [
       "1.0"
      ]
     },
     "execution_count": 42,
     "metadata": {},
     "output_type": "execute_result"
    }
   ],
   "source": [
    "env = utils.create_environment(slippery=False, big=True)\n",
    "policy, Q = sarsa(env, episodes=3000, step_size=0.2, exploration_rate=0.2)\n",
    "test_policy(policy, env)"
   ]
  },
  {
   "cell_type": "code",
   "execution_count": 43,
   "metadata": {},
   "outputs": [
    {
     "name": "stdout",
     "output_type": "stream",
     "text": [
      "  (Down)\n",
      "SFFFFFFF\n",
      "FFFFFFFF\n",
      "FFFHFFFF\n",
      "FFFFFHFF\n",
      "FFFHFFFF\n",
      "FHHFFFHF\n",
      "FHFFHFHF\n",
      "FFFHFFF\u001b[41mG\u001b[0m\n"
     ]
    }
   ],
   "source": [
    "run_game(env=env, policy=policy, display=True, should_return=False)"
   ]
  },
  {
   "cell_type": "markdown",
   "metadata": {},
   "source": [
    "### Q-Learning"
   ]
  },
  {
   "cell_type": "code",
   "execution_count": 51,
   "metadata": {},
   "outputs": [],
   "source": [
    "def Q_learning(env, episodes=100, step_size=0.01, exploration_rate=0.01):\n",
    "    policy = utils.create_random_policy(env)\n",
    "    Q = create_state_action_dictionary(env, policy)\n",
    "    for episode in range(episodes):\n",
    "        env.reset()\n",
    "        S = env.env.s\n",
    "        finished = False\n",
    "        while not finished:\n",
    "            A = greedy_policy(Q)[S]\n",
    "            S_prime, reward, finished, _ = env.step(A)\n",
    "            Q[S][A] = Q[S][A] + step_size * (reward + exploration_rate * max(Q[S_prime].values()) - Q[S][A])\n",
    "            S = S_prime\n",
    "            \n",
    "    return greedy_policy(Q), Q"
   ]
  },
  {
   "cell_type": "markdown",
   "metadata": {},
   "source": [
    "4 x 4"
   ]
  },
  {
   "cell_type": "code",
   "execution_count": 55,
   "metadata": {},
   "outputs": [
    {
     "data": {
      "text/plain": [
       "1.0"
      ]
     },
     "execution_count": 55,
     "metadata": {},
     "output_type": "execute_result"
    }
   ],
   "source": [
    "env = utils.create_environment(slippery=False, big=False)\n",
    "policy, Q = Q_learning(env, episodes=1000, step_size=0.1, exploration_rate=0.2)\n",
    "test_policy(policy, env)"
   ]
  },
  {
   "cell_type": "code",
   "execution_count": 56,
   "metadata": {},
   "outputs": [
    {
     "name": "stdout",
     "output_type": "stream",
     "text": [
      "  (Right)\n",
      "SFFF\n",
      "FHFH\n",
      "FFFH\n",
      "HFF\u001b[41mG\u001b[0m\n"
     ]
    }
   ],
   "source": [
    "run_game(env=env, policy=policy, display=True, should_return=False)"
   ]
  },
  {
   "cell_type": "markdown",
   "metadata": {},
   "source": [
    "8 x 8"
   ]
  },
  {
   "cell_type": "code",
   "execution_count": 57,
   "metadata": {},
   "outputs": [
    {
     "data": {
      "text/plain": [
       "1.0"
      ]
     },
     "execution_count": 57,
     "metadata": {},
     "output_type": "execute_result"
    }
   ],
   "source": [
    "env = utils.create_environment(slippery=False, big=True)\n",
    "policy, Q = Q_learning(env, episodes=1000, step_size=0.1, exploration_rate=0.2)\n",
    "test_policy(policy, env)"
   ]
  },
  {
   "cell_type": "code",
   "execution_count": 58,
   "metadata": {},
   "outputs": [
    {
     "name": "stdout",
     "output_type": "stream",
     "text": [
      "  (Down)\n",
      "SFFFFFFF\n",
      "FFFFFFFF\n",
      "FFFHFFFF\n",
      "FFFFFHFF\n",
      "FFFHFFFF\n",
      "FHHFFFHF\n",
      "FHFFHFHF\n",
      "FFFHFFF\u001b[41mG\u001b[0m\n"
     ]
    }
   ],
   "source": [
    "run_game(env=env, policy=policy, display=True, should_return=False)"
   ]
  },
  {
   "cell_type": "markdown",
   "metadata": {},
   "source": [
    "### Double Q-Learning"
   ]
  },
  {
   "cell_type": "code",
   "execution_count": 59,
   "metadata": {},
   "outputs": [],
   "source": [
    "def double_Q_learning(env, episodes=100, step_size=0.01, exploration_rate=0.01):\n",
    "    policy = utils.create_random_policy(env)\n",
    "    Q_1 = create_state_action_dictionary(env, policy)\n",
    "    Q_2 = create_state_action_dictionary(env, policy)\n",
    "\n",
    "    for episode in range(episodes):\n",
    "        env.reset()\n",
    "        S = env.env.s\n",
    "        finished = False\n",
    "        while not finished:\n",
    "            Q = {s: {a: av + Q_2[s][a] for a, av in sv.items()} for s, sv in Q_1.items()}\n",
    "            A = greedy_policy(Q)[S]\n",
    "            S_prime, reward, finished, _ = env.step(A)\n",
    "            \n",
    "            if np.random.uniform() < 0.5:\n",
    "                Q_1[S][A] = Q_1[S][A] + step_size * (reward + exploration_rate * max(Q_2[S_prime].values()) - Q_1[S][A])\n",
    "            else:\n",
    "                Q_2[S][A] = Q_2[S][A] + step_size * (reward + exploration_rate * max(Q_1[S_prime].values()) - Q_2[S][A])\n",
    "\n",
    "\n",
    "            S = S_prime\n",
    "    \n",
    "    Q = {s: {a: av + Q_2[s][a] for a, av in sv.items()} for s, sv in Q_1.items()}\n",
    "    return greedy_policy(Q), Q"
   ]
  },
  {
   "cell_type": "markdown",
   "metadata": {},
   "source": [
    "4 x 4"
   ]
  },
  {
   "cell_type": "code",
   "execution_count": 60,
   "metadata": {},
   "outputs": [
    {
     "data": {
      "text/plain": [
       "1.0"
      ]
     },
     "execution_count": 60,
     "metadata": {},
     "output_type": "execute_result"
    }
   ],
   "source": [
    "env = utils.create_environment(slippery=False, big=False)\n",
    "policy, Q = double_Q_learning(env, episodes=200, step_size=0.5, exploration_rate=0.2)\n",
    "test_policy(policy, env)"
   ]
  },
  {
   "cell_type": "code",
   "execution_count": 61,
   "metadata": {},
   "outputs": [
    {
     "name": "stdout",
     "output_type": "stream",
     "text": [
      "  (Right)\n",
      "SFFF\n",
      "FHFH\n",
      "FFFH\n",
      "HFF\u001b[41mG\u001b[0m\n"
     ]
    }
   ],
   "source": [
    "run_game(env=env, policy=policy, display=True, should_return=False)"
   ]
  },
  {
   "cell_type": "markdown",
   "metadata": {},
   "source": [
    "8 x 8"
   ]
  },
  {
   "cell_type": "code",
   "execution_count": 62,
   "metadata": {},
   "outputs": [
    {
     "data": {
      "text/plain": [
       "1.0"
      ]
     },
     "execution_count": 62,
     "metadata": {},
     "output_type": "execute_result"
    }
   ],
   "source": [
    "env = utils.create_environment(slippery=False, big=True)\n",
    "policy, Q = double_Q_learning(env, episodes=2000, step_size=0.3, exploration_rate=0.2)\n",
    "test_policy(policy, env)"
   ]
  },
  {
   "cell_type": "code",
   "execution_count": 63,
   "metadata": {},
   "outputs": [
    {
     "name": "stdout",
     "output_type": "stream",
     "text": [
      "  (Down)\n",
      "SFFFFFFF\n",
      "FFFFFFFF\n",
      "FFFHFFFF\n",
      "FFFFFHFF\n",
      "FFFHFFFF\n",
      "FHHFFFHF\n",
      "FHFFHFHF\n",
      "FFFHFFF\u001b[41mG\u001b[0m\n"
     ]
    }
   ],
   "source": [
    "run_game(env=env, policy=policy, display=True, should_return=False)"
   ]
  },
  {
   "cell_type": "code",
   "execution_count": null,
   "metadata": {},
   "outputs": [],
   "source": []
  }
 ],
 "metadata": {
  "kernelspec": {
   "display_name": "Python [conda env:anaconda3-5.1.0]",
   "language": "python",
   "name": "conda-env-anaconda3-5.1.0-py"
  },
  "language_info": {
   "codemirror_mode": {
    "name": "ipython",
    "version": 3
   },
   "file_extension": ".py",
   "mimetype": "text/x-python",
   "name": "python",
   "nbconvert_exporter": "python",
   "pygments_lexer": "ipython3",
   "version": "3.6.4"
  }
 },
 "nbformat": 4,
 "nbformat_minor": 2
}
